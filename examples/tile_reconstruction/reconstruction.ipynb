{
 "cells": [
  {
   "cell_type": "code",
   "execution_count": null,
   "id": "de1e604a-e5f3-4854-9af0-51ec67e2bd1a",
   "metadata": {},
   "outputs": [],
   "source": [
    "import sys\n",
    "\n",
    "sys.path.append('/explore/nobackup/people/jacaraba/development/satvision-pix4d')\n",
    "\n",
    "import os\n",
    "import torch\n",
    "import logging\n",
    "import argparse\n",
    "\n",
    "from lightning.pytorch import Trainer\n",
    "from lightning.pytorch.loggers import MLFlowLogger\n",
    "from lightning.pytorch.callbacks import ModelCheckpoint, LearningRateMonitor\n",
    "\n",
    "from satvision_pix4d.configs.config import _C, _update_config_from_file\n",
    "from satvision_pix4d.utils import get_strategy, get_distributed_train_batches\n",
    "from satvision_pix4d.pipelines import PIPELINES, get_available_pipelines\n",
    "from satvision_pix4d.datamodules import DATAMODULES, get_available_datamodules\n",
    "from satvision_pix4d.models.encoders.mae import build_satmae_model\n",
    "from satvision_pix4d.datasets.abi_temporal_benchmark_dataset import ABITemporalBenchmarkDataset\n",
    "\n",
    "model_filename = '/explore/nobackup/projects/pix4dcloud/jacaraba/model_development/satmae/' + \\\n",
    "    'satmae_satvision_pix4d_pretrain-dev/satmae_satvision_pix4d_pretrain-dev/best-epoch=196-val_loss=47.0728.ckpt/checkpoint/mp_rank_00_model_states.pt'\n",
    "\n",
    "config_filename = '/explore/nobackup/people/jacaraba/development/satvision-pix4d/tests/configs/test_satmae_dev.yaml'\n",
    "\n",
    "config = _C.clone()\n",
    "_update_config_from_file(config, config_filename)\n",
    "print(\"Loaded configuration file.\")\n",
    "\n",
    "# Add checkpoint (MODEL.PRETRAINED), \n",
    "# validation tile dir (DATA.DATA_PATHS),\n",
    "# and output dir (OUTPUT) to config file\n",
    "config.defrost()\n",
    "config.MODEL.PRETRAINED = model_filename\n",
    "config.DATA.DATA_PATHS = ['/explore/nobackup/people/jacaraba/projects/SatVision-Pix4d/tiles_pix4d/']\n",
    "config.OUTPUT = '.'\n",
    "config.freeze()\n",
    "print(\"Updated configuration file.\")\n",
    "\n",
    "# Get the proper pipeline\n",
    "available_pipelines = get_available_pipelines()\n",
    "print(\"Available pipelines:\", available_pipelines)\n",
    "\n",
    "pipeline = PIPELINES[config.PIPELINE]\n",
    "print(f'Using {pipeline}')\n",
    "\n",
    "ptlPipeline = pipeline(config)\n",
    "\n",
    "# Resume from checkpoint\n",
    "print(f'Attempting to resume from checkpoint {config.MODEL.RESUME}')\n",
    "model = ptlPipeline.load_checkpoint(config.MODEL.PRETRAINED, config)\n",
    "print(model)\n",
    "print('Successfully applied checkpoint')\n",
    "\n",
    "model.cpu()\n",
    "model.eval()\n",
    "print('Successfully moved to GPU')\n",
    "\n"
   ]
  },
  {
   "cell_type": "code",
   "execution_count": null,
   "id": "09466526-d12e-4b78-a9d0-ca6e5350054a",
   "metadata": {},
   "outputs": [],
   "source": [
    "from satvision_pix4d.datasets.abi_temporal_dataset import ABITemporalDataset\n",
    "\n",
    "# Use the new zarr directory\n",
    "data_dir = '/explore/nobackup/people/jacaraba/projects/SatVision-Pix4d/tiles_pix4d/'\n",
    "\n",
    "# Get all zarr files for reference\n",
    "all_zarr_files = [f for f in os.listdir(data_dir) if f.endswith('.zarr')]\n",
    "print(f\"Found {len(all_zarr_files)} zarr files in directory\")\n",
    "\n",
    "# Create dataset using the directory (not individual files)\n",
    "train_ds = ABITemporalDataset(\n",
    "    data_paths=[data_dir], \n",
    "    img_size=512,\n",
    "    in_chans=16,\n",
    "    data_var='Rad'\n",
    ")"
   ]
  },
  {
   "cell_type": "code",
   "execution_count": null,
   "id": "92646b0e-477d-4c68-8153-4b3de1b8c6ee",
   "metadata": {},
   "outputs": [],
   "source": [
    "# not used\n",
    "from satvision_pix4d.datasets.abi_temporal_dataset import ABITemporalDataset\n",
    "\n",
    "# Use the directory path, not individual files\n",
    "data_dir = /home/jacaraba/tiles_pix4d' #'/explore/nobackup/projects/pix4dcloud/jacaraba/tiles_pix4d/3-tiles/convection/20200101'\n",
    "\n",
    "# Get all zarr files for reference\n",
    "all_zarr_files = [f for f in os.listdir(data_dir) if f.endswith('.zarr')]\n",
    "print(f\"Found {len(all_zarr_files)} zarr files in directory\")\n",
    "\n",
    "# Create dataset using the directory (not individual files)\n",
    "train_ds = ABITemporalDataset(\n",
    "    data_paths=[data_dir], \n",
    "    img_size=512,\n",
    "    in_chans=16,\n",
    "    data_var='__xarray_dataarray_variable__'\n",
    ")"
   ]
  },
  {
   "cell_type": "code",
   "execution_count": null,
   "id": "c79baa80-e13f-40b0-9e21-6440793a40df",
   "metadata": {},
   "outputs": [],
   "source": [
    "\n",
    "imgs, ts = train_ds[5]  # imgs: (T, C, H, W), ts: (T, 3)\n",
    "\n",
    "# Normalize this img\n",
    "print(imgs.shape)\n",
    "\n",
    "# 3. Move inputs to GPU\n",
    "imgs = imgs.unsqueeze(0).cpu()  # (B=1, T, C, H, W)\n",
    "ts = torch.from_numpy(ts).unsqueeze(0).cpu()  # (B=1, T, 3)\n",
    "\n",
    "# 4. Run inference\n",
    "with torch.no_grad():\n",
    "    loss, pred, mask = model(imgs, ts)\n",
    "\n",
    "# 5. Post-process output\n",
    "print(\"🧪 Inference done!\")\n",
    "print(f\"Loss: {loss.item():.4f}\")\n",
    "print(f\"Pred shape: {pred.shape}  # should be (B, T*P, D)\")\n",
    "print(f\"Mask shape: {mask.shape}  # should be (B, T*P)\")\n",
    "\n",
    "# Optional: Convert prediction to images\n",
    "B, T, C, H, W = imgs.shape\n",
    "pred_imgs = model.model.unpatchify(pred, T, H, W)\n",
    "pred_imgs = torch.clamp(pred_imgs, 0, 1)\n",
    "\n",
    "print(f\"Reconstructed images shape: {pred_imgs.shape}  # (B, T, C, H, W)\")"
   ]
  },
  {
   "cell_type": "code",
   "execution_count": null,
   "id": "70fc017c-c8f1-4783-81d6-201530da9d90",
   "metadata": {},
   "outputs": [],
   "source": [
    "import matplotlib.pyplot as plt\n",
    "plt.imshow(pred_imgs[0, 0, 10, :, :])"
   ]
  },
  {
   "cell_type": "code",
   "execution_count": null,
   "id": "e960b4e1-bda8-4bed-a74c-2fadbfbe3ad8",
   "metadata": {},
   "outputs": [],
   "source": [
    "plt.imshow(imgs[0, 0, 10, :, :])"
   ]
  },
  {
   "cell_type": "code",
   "execution_count": null,
   "id": "13aa188a-a480-4c72-99ef-d18b172310c0",
   "metadata": {},
   "outputs": [],
   "source": [
    "imgs[0, 5, 10, :, :]"
   ]
  },
  {
   "cell_type": "code",
   "execution_count": null,
   "id": "445d489d-c538-45cd-9a64-1ca5311e313c",
   "metadata": {},
   "outputs": [],
   "source": [
    "pred_imgs[0, 0, 10, :, :]"
   ]
  },
  {
   "cell_type": "code",
   "execution_count": null,
   "id": "a0ce04f9-eebc-4cc9-aae5-e6e0b2efde1e",
   "metadata": {},
   "outputs": [],
   "source": [
    "print(f\"imgs shape: {imgs.shape}\")\n",
    "print(f\"imgs type: {type(imgs)}\")"
   ]
  },
  {
   "cell_type": "code",
   "execution_count": null,
   "id": "7e23cc63-cc10-4d02-b9a8-b1edb57328db",
   "metadata": {},
   "outputs": [],
   "source": []
  }
 ],
 "metadata": {
  "kernelspec": {
   "display_name": "Python [conda env:soehrle-satvis_kernel]",
   "language": "python",
   "name": "conda-env-soehrle-satvis_kernel-py"
  },
  "language_info": {
   "codemirror_mode": {
    "name": "ipython",
    "version": 3
   },
   "file_extension": ".py",
   "mimetype": "text/x-python",
   "name": "python",
   "nbconvert_exporter": "python",
   "pygments_lexer": "ipython3",
   "version": "3.9.23"
  }
 },
 "nbformat": 4,
 "nbformat_minor": 5
}

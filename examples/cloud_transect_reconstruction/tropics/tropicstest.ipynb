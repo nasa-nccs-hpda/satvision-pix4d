{
 "cells": [
  {
   "cell_type": "code",
   "execution_count": 13,
   "id": "fa471bac-c625-409b-ac1c-7bae18348c10",
   "metadata": {},
   "outputs": [],
   "source": [
    "import numpy as np\n",
    "import os\n",
    "import shutil"
   ]
  },
  {
   "cell_type": "code",
   "execution_count": 14,
   "id": "5b9a1391-b9e1-4eef-a58f-e46bdb72e3a7",
   "metadata": {},
   "outputs": [],
   "source": [
    "CHIP_DIR = \"/explore/nobackup/projects/pix4dcloud/szhang16/abiChips/GOES-16/\"\n",
    "TROPIC_SAVE_DIR = \"/explore/nobackup/projects/pix4dcloud/szhang16/abiChips/GOES-16-Tropics/\"\n",
    "MIDLATITUDE_SAVE_DIR = \"/explore/nobackup/projects/pix4dcloud/szhang16/abiChips/GOES-16-MidLatitude/\""
   ]
  },
  {
   "cell_type": "code",
   "execution_count": 12,
   "id": "7cd4ffd5-81cd-44a2-822d-d5f8f1de8a58",
   "metadata": {},
   "outputs": [
    {
     "ename": "NameError",
     "evalue": "name 'shutil' is not defined",
     "output_type": "error",
     "traceback": [
      "\u001b[0;31m---------------------------------------------------------------------------\u001b[0m",
      "\u001b[0;31mNameError\u001b[0m                                 Traceback (most recent call last)",
      "Cell \u001b[0;32mIn[12], line 13\u001b[0m\n\u001b[1;32m     10\u001b[0m     shutil\u001b[38;5;241m.\u001b[39mcopyfile(entry\u001b[38;5;241m.\u001b[39mpath, TROPIC_SAVE_DIR \u001b[38;5;241m+\u001b[39m entry\u001b[38;5;241m.\u001b[39mname)\n\u001b[1;32m     12\u001b[0m \u001b[38;5;28;01melif\u001b[39;00m (lat \u001b[38;5;241m>\u001b[39m\u001b[38;5;241m=\u001b[39m \u001b[38;5;241m-\u001b[39m\u001b[38;5;241m40\u001b[39m \u001b[38;5;129;01mand\u001b[39;00m lat \u001b[38;5;241m<\u001b[39m\u001b[38;5;241m=\u001b[39m \u001b[38;5;241m-\u001b[39m\u001b[38;5;241m25\u001b[39m) \u001b[38;5;129;01mor\u001b[39;00m (lat \u001b[38;5;241m>\u001b[39m\u001b[38;5;241m=\u001b[39m \u001b[38;5;241m25\u001b[39m \u001b[38;5;129;01mand\u001b[39;00m lat \u001b[38;5;241m<\u001b[39m\u001b[38;5;241m=\u001b[39m \u001b[38;5;241m40\u001b[39m):\n\u001b[0;32m---> 13\u001b[0m     \u001b[43mshutil\u001b[49m\u001b[38;5;241m.\u001b[39mcopyfile(entry\u001b[38;5;241m.\u001b[39mpath, MIDLATITUDE_SAVE_DIR \u001b[38;5;241m+\u001b[39m entry\u001b[38;5;241m.\u001b[39mname)\n",
      "\u001b[0;31mNameError\u001b[0m: name 'shutil' is not defined"
     ]
    }
   ],
   "source": [
    "for entry in os.scandir(CHIP_DIR):\n",
    "    if entry.is_file():\n",
    "        chip = np.load(entry.path, allow_pickle=True)\n",
    "        chip_data = chip['data']\n",
    "        lat_data = chip_data.item()['Latitude']\n",
    "        lat = lat_data[45] #get the middle latitude\n",
    "\n",
    "        if lat >= -25 and lat <= 25:\n",
    "            # Tropic\n",
    "            shutil.copyfile(entry.path, TROPIC_SAVE_DIR + entry.name)\n",
    "\n",
    "        elif (lat >= -40 and lat <= -25) or (lat >= 25 and lat <= 40):\n",
    "            shutil.copyfile(entry.path, MIDLATITUDE_SAVE_DIR + entry.name)"
   ]
  },
  {
   "cell_type": "code",
   "execution_count": null,
   "id": "4865509c-1d1b-4c4e-aad2-9282b1209884",
   "metadata": {},
   "outputs": [],
   "source": []
  }
 ],
 "metadata": {
  "kernelspec": {
   "display_name": "Python [conda env:torch]",
   "language": "python",
   "name": "conda-env-torch-py"
  },
  "language_info": {
   "codemirror_mode": {
    "name": "ipython",
    "version": 3
   },
   "file_extension": ".py",
   "mimetype": "text/x-python",
   "name": "python",
   "nbconvert_exporter": "python",
   "pygments_lexer": "ipython3",
   "version": "3.11.9"
  }
 },
 "nbformat": 4,
 "nbformat_minor": 5
}
